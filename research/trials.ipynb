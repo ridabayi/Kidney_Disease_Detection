{
 "cells": [
  {
   "cell_type": "code",
   "execution_count": 1,
   "metadata": {},
   "outputs": [
    {
     "name": "stdout",
     "output_type": "stream",
     "text": [
      "Dataset URL: https://www.kaggle.com/datasets/nazmul0087/ct-kidney-dataset-normal-cyst-tumor-and-stone\n",
      "Dataset downloaded and extracted into 'ct_kidney_dataset'\n"
     ]
    }
   ],
   "source": [
    "import kaggle\n",
    "import os\n",
    "\n",
    "# Create a folder to download\n",
    "os.makedirs('ct_kidney_dataset', exist_ok=True)\n",
    "\n",
    "# Download and unzip the dataset\n",
    "kaggle.api.dataset_download_files(\n",
    "    'nazmul0087/ct-kidney-dataset-normal-cyst-tumor-and-stone',\n",
    "    path='ct_kidney_dataset',\n",
    "    unzip=True\n",
    ")\n",
    "\n",
    "print(\"Dataset downloaded and extracted into 'ct_kidney_dataset'\")\n"
   ]
  },
  {
   "cell_type": "code",
   "execution_count": null,
   "metadata": {},
   "outputs": [],
   "source": []
  }
 ],
 "metadata": {
  "kernelspec": {
   "display_name": "kideny",
   "language": "python",
   "name": "python3"
  },
  "language_info": {
   "codemirror_mode": {
    "name": "ipython",
    "version": 3
   },
   "file_extension": ".py",
   "mimetype": "text/x-python",
   "name": "python",
   "nbconvert_exporter": "python",
   "pygments_lexer": "ipython3",
   "version": "3.10.16"
  }
 },
 "nbformat": 4,
 "nbformat_minor": 2
}
